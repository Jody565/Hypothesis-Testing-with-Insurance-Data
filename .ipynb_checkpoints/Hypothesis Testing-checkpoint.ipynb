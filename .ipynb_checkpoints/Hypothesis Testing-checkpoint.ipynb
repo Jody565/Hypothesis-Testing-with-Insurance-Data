{
 "cells": [
  {
   "cell_type": "code",
   "execution_count": 1,
   "id": "e8e45b6d-e68b-4260-bc35-363b0a473d56",
   "metadata": {},
   "outputs": [],
   "source": [
    "import numpy as np\n",
    "import pandas as pd\n",
    "import matplotlib.pyplot as plt\n",
    "import seaborn as sns\n",
    "from scipy import stats\n",
    "from scipy.stats import ttest_ind, chi2_contingency, f_oneway, shapiro, levene, bartlett\n",
    "from scipy.stats import kruskal\n",
    "\n"
   ]
  },
  {
   "cell_type": "code",
   "execution_count": 2,
   "id": "900bf8bd-d4b3-45b6-bf14-089f2f2f6bee",
   "metadata": {},
   "outputs": [
    {
     "name": "stdout",
     "output_type": "stream",
     "text": [
      "<class 'pandas.core.frame.DataFrame'>\n",
      "RangeIndex: 1338 entries, 0 to 1337\n",
      "Data columns (total 7 columns):\n",
      " #   Column    Non-Null Count  Dtype  \n",
      "---  ------    --------------  -----  \n",
      " 0   age       1338 non-null   int64  \n",
      " 1   sex       1338 non-null   object \n",
      " 2   bmi       1338 non-null   float64\n",
      " 3   children  1338 non-null   int64  \n",
      " 4   smoker    1338 non-null   object \n",
      " 5   region    1338 non-null   object \n",
      " 6   charges   1338 non-null   float64\n",
      "dtypes: float64(2), int64(2), object(3)\n",
      "memory usage: 73.3+ KB\n"
     ]
    },
    {
     "data": {
      "text/html": [
       "<div>\n",
       "<style scoped>\n",
       "    .dataframe tbody tr th:only-of-type {\n",
       "        vertical-align: middle;\n",
       "    }\n",
       "\n",
       "    .dataframe tbody tr th {\n",
       "        vertical-align: top;\n",
       "    }\n",
       "\n",
       "    .dataframe thead th {\n",
       "        text-align: right;\n",
       "    }\n",
       "</style>\n",
       "<table border=\"1\" class=\"dataframe\">\n",
       "  <thead>\n",
       "    <tr style=\"text-align: right;\">\n",
       "      <th></th>\n",
       "      <th>age</th>\n",
       "      <th>sex</th>\n",
       "      <th>bmi</th>\n",
       "      <th>children</th>\n",
       "      <th>smoker</th>\n",
       "      <th>region</th>\n",
       "      <th>charges</th>\n",
       "    </tr>\n",
       "  </thead>\n",
       "  <tbody>\n",
       "    <tr>\n",
       "      <th>0</th>\n",
       "      <td>19</td>\n",
       "      <td>female</td>\n",
       "      <td>27.900</td>\n",
       "      <td>0</td>\n",
       "      <td>yes</td>\n",
       "      <td>southwest</td>\n",
       "      <td>16884.92400</td>\n",
       "    </tr>\n",
       "    <tr>\n",
       "      <th>1</th>\n",
       "      <td>18</td>\n",
       "      <td>male</td>\n",
       "      <td>33.770</td>\n",
       "      <td>1</td>\n",
       "      <td>no</td>\n",
       "      <td>southeast</td>\n",
       "      <td>1725.55230</td>\n",
       "    </tr>\n",
       "    <tr>\n",
       "      <th>2</th>\n",
       "      <td>28</td>\n",
       "      <td>male</td>\n",
       "      <td>33.000</td>\n",
       "      <td>3</td>\n",
       "      <td>no</td>\n",
       "      <td>southeast</td>\n",
       "      <td>4449.46200</td>\n",
       "    </tr>\n",
       "    <tr>\n",
       "      <th>3</th>\n",
       "      <td>33</td>\n",
       "      <td>male</td>\n",
       "      <td>22.705</td>\n",
       "      <td>0</td>\n",
       "      <td>no</td>\n",
       "      <td>northwest</td>\n",
       "      <td>21984.47061</td>\n",
       "    </tr>\n",
       "    <tr>\n",
       "      <th>4</th>\n",
       "      <td>32</td>\n",
       "      <td>male</td>\n",
       "      <td>28.880</td>\n",
       "      <td>0</td>\n",
       "      <td>no</td>\n",
       "      <td>northwest</td>\n",
       "      <td>3866.85520</td>\n",
       "    </tr>\n",
       "  </tbody>\n",
       "</table>\n",
       "</div>"
      ],
      "text/plain": [
       "   age     sex     bmi  children smoker     region      charges\n",
       "0   19  female  27.900         0    yes  southwest  16884.92400\n",
       "1   18    male  33.770         1     no  southeast   1725.55230\n",
       "2   28    male  33.000         3     no  southeast   4449.46200\n",
       "3   33    male  22.705         0     no  northwest  21984.47061\n",
       "4   32    male  28.880         0     no  northwest   3866.85520"
      ]
     },
     "execution_count": 2,
     "metadata": {},
     "output_type": "execute_result"
    }
   ],
   "source": [
    "df = pd.read_csv('Data/insurance.csv')\n",
    "df.info()\n",
    "df.head()"
   ]
  },
  {
   "cell_type": "markdown",
   "id": "b813f97a-3261-4b86-8b9a-04ac7c116fe2",
   "metadata": {},
   "source": [
    "## Q1. Do smokers have higher insurance charges than non-smokers?"
   ]
  },
  {
   "cell_type": "markdown",
   "id": "47d25c4d-c8a6-4e64-86cf-c7be85bf7a08",
   "metadata": {},
   "source": [
    "### Stating Null and Alternative Hypothesis"
   ]
  },
  {
   "cell_type": "markdown",
   "id": "fd3d5537-3cc7-4820-87a8-8920da0c796d",
   "metadata": {},
   "source": [
    "\n",
    "  * Null Hypothesis: The mean insurance charge of smokers is equal to the mean insurance charge of non-smokers\n",
    "\r",
    "  * Alternative Hypothesis: The mean insurance charge of smokers is not equal to the mean insurance charge of non-smokers."
   ]
  },
  {
   "cell_type": "markdown",
   "id": "c7cca791-062c-42f6-8954-0b8bb07da0e5",
   "metadata": {},
   "source": [
    "### Select the correct test according to the data type and number of samples"
   ]
  },
  {
   "cell_type": "markdown",
   "id": "e649e2f1-2286-491c-b838-50bad767bdeb",
   "metadata": {},
   "source": [
    "* Independent two-sample t-test"
   ]
  },
  {
   "cell_type": "markdown",
   "id": "11f59944-6c38-4d3a-9fd0-2b41ef06472c",
   "metadata": {},
   "source": [
    "### Testing the assumptions of the selected test"
   ]
  },
  {
   "cell_type": "code",
   "execution_count": 3,
   "id": "39df87ed-9713-4e07-8926-a37c2e7591bf",
   "metadata": {},
   "outputs": [
    {
     "data": {
      "text/plain": [
       "no     1064\n",
       "yes     274\n",
       "Name: smoker, dtype: int64"
      ]
     },
     "execution_count": 3,
     "metadata": {},
     "output_type": "execute_result"
    }
   ],
   "source": [
    "df['smoker'].value_counts()"
   ]
  },
  {
   "cell_type": "code",
   "execution_count": 4,
   "id": "7c6cda45-654b-46db-a2c8-53b389254595",
   "metadata": {},
   "outputs": [],
   "source": [
    "smoker_df = df.loc[df['smoker']== 'yes', 'charges'].copy()\n",
    "no_smoker_df = df.loc[df['smoker']== 'no','charges'].copy()"
   ]
  },
  {
   "cell_type": "markdown",
   "id": "895e6c51-f97a-41ff-b8d0-766619fa0b47",
   "metadata": {},
   "source": [
    "### Test for Outliers"
   ]
  },
  {
   "cell_type": "code",
   "execution_count": 5,
   "id": "08baa69a-c742-475d-8465-60f533db3e57",
   "metadata": {},
   "outputs": [
    {
     "data": {
      "text/plain": [
       "0"
      ]
     },
     "execution_count": 5,
     "metadata": {},
     "output_type": "execute_result"
    }
   ],
   "source": [
    "# Check for outliers in smokers\n",
    "zscores= stats.zscore(smoker_df)\n",
    "outliers = abs(zscores)>3\n",
    "np.sum(outliers)\n"
   ]
  },
  {
   "cell_type": "markdown",
   "id": "23c0222b-db53-4752-a4f4-ec6003a213af",
   "metadata": {},
   "source": [
    "There are no outliers in the smokers group"
   ]
  },
  {
   "cell_type": "code",
   "execution_count": 6,
   "id": "ea2a5edf-82c3-49da-be9f-13e8a165077c",
   "metadata": {},
   "outputs": [
    {
     "data": {
      "text/plain": [
       "24"
      ]
     },
     "execution_count": 6,
     "metadata": {},
     "output_type": "execute_result"
    }
   ],
   "source": [
    "# Check for outliers in non-smokers\n",
    "zscores= stats.zscore(no_smoker_df)\n",
    "outliers = abs(zscores)>3\n",
    "np.sum(outliers)"
   ]
  },
  {
   "cell_type": "markdown",
   "id": "c4eb3053-49e9-40d9-9497-e8a542b1222b",
   "metadata": {},
   "source": [
    "There are 24 outliers in the non smokers group"
   ]
  },
  {
   "cell_type": "code",
   "execution_count": 7,
   "id": "d091c371-cf7d-448d-8e1f-b734be6ad8b7",
   "metadata": {},
   "outputs": [],
   "source": [
    "no_smoker_df = no_smoker_df[(np.abs(stats.zscore(no_smoker_df)) < 3)]"
   ]
  },
  {
   "cell_type": "markdown",
   "id": "4d6c6c59-2fc4-40ef-99a5-d9e67e5a37ba",
   "metadata": {},
   "source": [
    "Outliers have been removed from the non smokers group"
   ]
  },
  {
   "cell_type": "markdown",
   "id": "8c1e0f14-6d1a-4a14-af00-d203f22051d0",
   "metadata": {},
   "source": [
    "### Check for Normality"
   ]
  },
  {
   "cell_type": "code",
   "execution_count": 8,
   "id": "6b825706-dad8-4138-8c10-4eaa1611b61d",
   "metadata": {},
   "outputs": [
    {
     "data": {
      "text/plain": [
       "NormaltestResult(statistic=61.03941356533816, pvalue=5.564930630036463e-14)"
      ]
     },
     "execution_count": 8,
     "metadata": {},
     "output_type": "execute_result"
    }
   ],
   "source": [
    "result_smokers = stats.normaltest(smoker_df)\n",
    "result_smokers"
   ]
  },
  {
   "cell_type": "code",
   "execution_count": 9,
   "id": "68a8747e-dd7d-4d28-8f42-108475900a6a",
   "metadata": {},
   "outputs": [
    {
     "data": {
      "text/plain": [
       "NormaltestResult(statistic=163.80367047789198, pvalue=2.6945416315543976e-36)"
      ]
     },
     "execution_count": 9,
     "metadata": {},
     "output_type": "execute_result"
    }
   ],
   "source": [
    "result_non_smokers = stats.normaltest(no_smoker_df)\n",
    "result_non_smokers"
   ]
  },
  {
   "cell_type": "markdown",
   "id": "4dee820d-f44d-489a-a8cc-d6a505b02a68",
   "metadata": {},
   "source": [
    "Our data is not normally distributed, but we can proceed with analysis since our p-values are below 0.05 and the sample size is large enough."
   ]
  },
  {
   "cell_type": "markdown",
   "id": "6351f90f-ec09-42c3-82f2-e2dfca450fca",
   "metadata": {},
   "source": [
    "### Test for Variance "
   ]
  },
  {
   "cell_type": "code",
   "execution_count": 10,
   "id": "6d91bb02-091d-4a49-9393-4e72b6358015",
   "metadata": {},
   "outputs": [
    {
     "data": {
      "text/plain": [
       "LeveneResult(statistic=520.7468821724297, pvalue=2.4247238784347824e-97)"
      ]
     },
     "execution_count": 10,
     "metadata": {},
     "output_type": "execute_result"
    }
   ],
   "source": [
    "result = stats.levene(smoker_df, no_smoker_df)\n",
    "result"
   ]
  },
  {
   "cell_type": "markdown",
   "id": "df0226ac-9a1f-47cc-acfb-2e76604ce870",
   "metadata": {},
   "source": [
    "We need to set the \"equal_var\" parameter to False since our variances are not equal.\n",
    "\n"
   ]
  },
  {
   "cell_type": "markdown",
   "id": "093e1ed8-21c5-418b-9663-5210f4db7079",
   "metadata": {},
   "source": [
    "### Execute the selected test, or the alternative test (if you do not meet the assumptions)"
   ]
  },
  {
   "cell_type": "code",
   "execution_count": 11,
   "id": "bc63edc8-3606-4882-a55f-99e221b7b18c",
   "metadata": {},
   "outputs": [
    {
     "data": {
      "text/plain": [
       "Ttest_indResult(statistic=33.732305987092516, pvalue=2.575322662587431e-104)"
      ]
     },
     "execution_count": 11,
     "metadata": {},
     "output_type": "execute_result"
    }
   ],
   "source": [
    "result = stats.ttest_ind(smoker_df, no_smoker_df, equal_var = False)\n",
    "result"
   ]
  },
  {
   "cell_type": "markdown",
   "id": "6112d2cc-a196-4c8c-9b97-1b96b313c8d0",
   "metadata": {},
   "source": [
    "### Interpret your p-value and reject or fail to your null hypothesis"
   ]
  },
  {
   "cell_type": "markdown",
   "id": "2c969f11-14b1-47a8-88bc-d6e2fb18b21f",
   "metadata": {},
   "source": [
    "The p-value is less than 0.05, indicating a significant difference in insurance charges between smokers and non-smokers. Therefore, we reject the null hypothesis."
   ]
  },
  {
   "cell_type": "markdown",
   "id": "b0d73493-4c60-449e-b866-7a68ee3819af",
   "metadata": {},
   "source": [
    "### Show a supporting visualization that helps display the result"
   ]
  },
  {
   "cell_type": "code",
   "execution_count": 12,
   "id": "36263772-9405-4176-9592-af0b7ff8a2ca",
   "metadata": {},
   "outputs": [
    {
     "data": {
      "image/png": "[encoded data removed]",
      "text/plain": [
       "<Figure size 1000x600 with 1 Axes>"
      ]
     },
     "metadata": {},
     "output_type": "display_data"
    }
   ],
   "source": [
    "plt.figure(figsize=(10,6))\n",
    "sns.boxplot(x='smoker', y='charges', data=df)\n",
    "plt.title('Insurance charges for Smokers vs Non-Smokers')\n",
    "plt.show()"
   ]
  },
  {
   "cell_type": "markdown",
   "id": "7f7fc74c-8914-40f0-9724-e4638629133f",
   "metadata": {},
   "source": [
    "Based on the boxplot presented, it is clear that there is a noticeable difference between those who smoke and those who do not, in terms of their related insurance charges. \n",
    "The boxplot indicates that smokers tend to have higher insurance charges compared to non-smokers."
   ]
  },
  {
   "cell_type": "markdown",
   "id": "93db506f-ea18-49ca-b968-1af385f7fe6d",
   "metadata": {},
   "source": [
    "##  Q2. Are men more likely to smoke than women?"
   ]
  },
  {
   "cell_type": "markdown",
   "id": "58f483ed-7dc7-420a-b15a-c2d3c7c9e59c",
   "metadata": {},
   "source": [
    "### Stating Null and Alternative Hypothesis"
   ]
  },
  {
   "cell_type": "markdown",
   "id": "ef64573f-5e6a-4434-939d-5afb40811a8c",
   "metadata": {},
   "source": [
    "  * Null Hypothesis: There is no significant difference between the proportion of men who smoke and the proportion of women who smoke.\n",
    "\n",
    "  * Alternative Hypothesis: The proportion of men who smoke is higher than the proportion of women who smoke"
   ]
  },
  {
   "cell_type": "markdown",
   "id": "4b5afe53-1ce8-4b70-87c7-7a07d162ca8c",
   "metadata": {},
   "source": [
    "### Select the correct test according to the data type and number of samples"
   ]
  },
  {
   "cell_type": "markdown",
   "id": "27d5e78c-cdf8-4529-bab1-bc7b23e76a56",
   "metadata": {},
   "source": [
    "Since these are two categorical variables we will use the Chi-Square test"
   ]
  },
  {
   "cell_type": "markdown",
   "id": "fd953191-9464-4698-8c96-1ec6a63998e9",
   "metadata": {},
   "source": [
    "### Testing the assumptions of the selected test"
   ]
  },
  {
   "cell_type": "code",
   "execution_count": 13,
   "id": "87ca2373-5053-458f-9476-1ae6e90fa18e",
   "metadata": {},
   "outputs": [
    {
     "data": {
      "text/html": [
       "<div>\n",
       "<style scoped>\n",
       "    .dataframe tbody tr th:only-of-type {\n",
       "        vertical-align: middle;\n",
       "    }\n",
       "\n",
       "    .dataframe tbody tr th {\n",
       "        vertical-align: top;\n",
       "    }\n",
       "\n",
       "    .dataframe thead th {\n",
       "        text-align: right;\n",
       "    }\n",
       "</style>\n",
       "<table border=\"1\" class=\"dataframe\">\n",
       "  <thead>\n",
       "    <tr style=\"text-align: right;\">\n",
       "      <th>smoker</th>\n",
       "      <th>no</th>\n",
       "      <th>yes</th>\n",
       "    </tr>\n",
       "    <tr>\n",
       "      <th>sex</th>\n",
       "      <th></th>\n",
       "      <th></th>\n",
       "    </tr>\n",
       "  </thead>\n",
       "  <tbody>\n",
       "    <tr>\n",
       "      <th>female</th>\n",
       "      <td>547</td>\n",
       "      <td>115</td>\n",
       "    </tr>\n",
       "    <tr>\n",
       "      <th>male</th>\n",
       "      <td>517</td>\n",
       "      <td>159</td>\n",
       "    </tr>\n",
       "  </tbody>\n",
       "</table>\n",
       "</div>"
      ],
      "text/plain": [
       "smoker   no  yes\n",
       "sex             \n",
       "female  547  115\n",
       "male    517  159"
      ]
     },
     "execution_count": 13,
     "metadata": {},
     "output_type": "execute_result"
    }
   ],
   "source": [
    "table = pd.crosstab(df['sex'], df['smoker'])\n",
    "table"
   ]
  },
  {
   "cell_type": "markdown",
   "id": "5243b329-5c6e-4e16-bf3b-5a9f73d9d687",
   "metadata": {},
   "source": [
    "### Execute the selected test, or the alternative test (if you do not meet the assumptions)"
   ]
  },
  {
   "cell_type": "code",
   "execution_count": 14,
   "id": "3bb59d18-73c5-49de-b0ac-11dfa63cfb8c",
   "metadata": {},
   "outputs": [],
   "source": [
    "result = stats.chi2_contingency(table)\n",
    "chi2, p, deg_free, expected_vals = result "
   ]
  },
  {
   "cell_type": "code",
   "execution_count": 15,
   "id": "421cfa64-66a7-45f4-b3d5-fa44d142d17a",
   "metadata": {},
   "outputs": [
    {
     "name": "stdout",
     "output_type": "stream",
     "text": [
      "0.006548143503580696\n"
     ]
    },
    {
     "data": {
      "text/plain": [
       "True"
      ]
     },
     "execution_count": 15,
     "metadata": {},
     "output_type": "execute_result"
    }
   ],
   "source": [
    "# What was our p-value?\n",
    "print(p)\n",
    "p<.05"
   ]
  },
  {
   "cell_type": "markdown",
   "id": "8fff3672-40e5-4538-9518-b99912fdfc91",
   "metadata": {},
   "source": [
    "### Interpret your p-value and reject or fail to your null hypothesis"
   ]
  },
  {
   "cell_type": "markdown",
   "id": "1e41419d-ec56-478b-84c8-4879e1c4912e",
   "metadata": {},
   "source": [
    "The null hypothesis is rejected due to a p-value < 0.05, indicating a significant relationship between a person's sex and their smoking status."
   ]
  },
  {
   "cell_type": "markdown",
   "id": "36de41e9-935f-4792-a99f-8b2d71335ef7",
   "metadata": {},
   "source": [
    "### Show a supporting visualization that helps display the result"
   ]
  },
  {
   "cell_type": "code",
   "execution_count": 16,
   "id": "518563ae-efc1-4edc-a278-c3df4501f5e4",
   "metadata": {},
   "outputs": [
    {
     "data": {
      "image/png": "[encoded data removed]",
      "text/plain": [
       "<Figure size 1000x600 with 1 Axes>"
      ]
     },
     "metadata": {},
     "output_type": "display_data"
    }
   ],
   "source": [
    "# Plot the proportion of smokers by sex\n",
    "plt.figure(figsize=(10,6))\n",
    "sns.countplot(x='sex', hue='smoker', data=df)\n",
    "plt.title('Proportion of Smokers by Sex')\n",
    "plt.show()"
   ]
  },
  {
   "cell_type": "markdown",
   "id": "1df6edce-ff76-45fa-8447-0b7fe1ac285c",
   "metadata": {},
   "source": [
    "Based on the graph, there is a significant difference in smoking rates between genders."
   ]
  },
  {
   "cell_type": "markdown",
   "id": "1b5c1454-8218-4e21-a498-5aa4b48b0a70",
   "metadata": {},
   "source": [
    "## Q3. Do different regions have different charges, on average?"
   ]
  },
  {
   "cell_type": "markdown",
   "id": "9fe60da3-c9aa-4d33-8b63-dfb75b75416d",
   "metadata": {},
   "source": [
    "### Stating Null and Alternative Hypothesis"
   ]
  },
  {
   "cell_type": "markdown",
   "id": "82b1efb6-5f90-402a-90e3-9e8d82da7204",
   "metadata": {},
   "source": [
    "* Null Hypothesis: The means of the charges are the same in all regions.\n",
    "* Alternative Hypothesis: The means of the charges are different in at least two regions."
   ]
  },
  {
   "cell_type": "markdown",
   "id": "d392662a-78cc-4e22-a099-0036cfc139bd",
   "metadata": {},
   "source": [
    "## Select the correct test according to the data type and number of samples"
   ]
  },
  {
   "cell_type": "markdown",
   "id": "82f874af-a57f-4023-9776-12e25d1d85eb",
   "metadata": {},
   "source": [
    "We will use the ANOVA test to compare the means of charges across multiple regions."
   ]
  },
  {
   "cell_type": "markdown",
   "id": "cefcd543-8352-4ef6-981c-7ba55344e5bd",
   "metadata": {},
   "source": [
    "### Testing the assumptions of the selected test"
   ]
  },
  {
   "cell_type": "markdown",
   "id": "1478cf09-f541-41b6-a0d5-c92a147185d5",
   "metadata": {},
   "source": [
    "### Testing for Outliers"
   ]
  },
  {
   "cell_type": "code",
   "execution_count": 17,
   "id": "f9c2756c-aa85-4fbf-806f-f8e568da9900",
   "metadata": {},
   "outputs": [],
   "source": [
    "zscores = np.abs(stats.zscore(df['charges']))\n",
    "df = df[zscores < 3]"
   ]
  },
  {
   "cell_type": "markdown",
   "id": "8928cc2f-41b1-4d1f-aea1-57264af17a8f",
   "metadata": {},
   "source": [
    "Outliers removed"
   ]
  },
  {
   "cell_type": "markdown",
   "id": "0ee106fe-0feb-470f-9f00-a4a2878773d8",
   "metadata": {},
   "source": [
    "Testing Normality"
   ]
  },
  {
   "cell_type": "code",
   "execution_count": 18,
   "id": "2d33247b-529a-4eba-bce4-13fd95a8e5c1",
   "metadata": {},
   "outputs": [
    {
     "data": {
      "text/plain": [
       "dict_keys(['southwest', 'southeast', 'northwest', 'northeast'])"
      ]
     },
     "execution_count": 18,
     "metadata": {},
     "output_type": "execute_result"
    }
   ],
   "source": [
    "groups = {}\n",
    "## Loop through all unique categories\n",
    "for i in df['region'].unique():\n",
    "    ## Get series for group and rename\n",
    "    data = df.loc[df['region']==i,'charges'].copy()\n",
    "    \n",
    "    # save into the dictionary\n",
    "    groups[i] = data\n",
    "groups.keys()"
   ]
  },
  {
   "cell_type": "code",
   "execution_count": 19,
   "id": "a1ea3c09-e2c0-4f85-85a9-559dddba41b0",
   "metadata": {},
   "outputs": [
    {
     "data": {
      "text/html": [
       "<div>\n",
       "<style scoped>\n",
       "    .dataframe tbody tr th:only-of-type {\n",
       "        vertical-align: middle;\n",
       "    }\n",
       "\n",
       "    .dataframe tbody tr th {\n",
       "        vertical-align: top;\n",
       "    }\n",
       "\n",
       "    .dataframe thead th {\n",
       "        text-align: right;\n",
       "    }\n",
       "</style>\n",
       "<table border=\"1\" class=\"dataframe\">\n",
       "  <thead>\n",
       "    <tr style=\"text-align: right;\">\n",
       "      <th></th>\n",
       "      <th>n</th>\n",
       "      <th>p</th>\n",
       "      <th>test stat</th>\n",
       "    </tr>\n",
       "  </thead>\n",
       "  <tbody>\n",
       "    <tr>\n",
       "      <th>southwest</th>\n",
       "      <td>323.0</td>\n",
       "      <td>1.718876e-22</td>\n",
       "      <td>100.230402</td>\n",
       "    </tr>\n",
       "    <tr>\n",
       "      <th>southeast</th>\n",
       "      <td>362.0</td>\n",
       "      <td>1.936990e-13</td>\n",
       "      <td>58.544942</td>\n",
       "    </tr>\n",
       "    <tr>\n",
       "      <th>northwest</th>\n",
       "      <td>323.0</td>\n",
       "      <td>9.182483e-21</td>\n",
       "      <td>92.273979</td>\n",
       "    </tr>\n",
       "    <tr>\n",
       "      <th>northeast</th>\n",
       "      <td>323.0</td>\n",
       "      <td>6.205365e-18</td>\n",
       "      <td>79.242235</td>\n",
       "    </tr>\n",
       "  </tbody>\n",
       "</table>\n",
       "</div>"
      ],
      "text/plain": [
       "               n             p   test stat\n",
       "southwest  323.0  1.718876e-22  100.230402\n",
       "southeast  362.0  1.936990e-13   58.544942\n",
       "northwest  323.0  9.182483e-21   92.273979\n",
       "northeast  323.0  6.205365e-18   79.242235"
      ]
     },
     "execution_count": 19,
     "metadata": {},
     "output_type": "execute_result"
    }
   ],
   "source": [
    "## Running normal test on each group and confirming there are >20 in each group\n",
    "norm_results = {}\n",
    "for i, data in groups.items():\n",
    "    stat, p = stats.normaltest(data)\n",
    "    ## save the p val, test statistic, and the size of the group\n",
    "    norm_results[i] = {'n': len(data),\n",
    "                             'p':p,\n",
    "                             'test stat':stat,}\n",
    "## convert to a dataframe\n",
    "norm_results_df = pd.DataFrame(norm_results).T\n",
    "norm_results_df"
   ]
  },
  {
   "cell_type": "code",
   "execution_count": 20,
   "id": "131a1894-7e72-4a86-aa16-e723c7daabaa",
   "metadata": {},
   "outputs": [
    {
     "data": {
      "text/html": [
       "<div>\n",
       "<style scoped>\n",
       "    .dataframe tbody tr th:only-of-type {\n",
       "        vertical-align: middle;\n",
       "    }\n",
       "\n",
       "    .dataframe tbody tr th {\n",
       "        vertical-align: top;\n",
       "    }\n",
       "\n",
       "    .dataframe thead th {\n",
       "        text-align: right;\n",
       "    }\n",
       "</style>\n",
       "<table border=\"1\" class=\"dataframe\">\n",
       "  <thead>\n",
       "    <tr style=\"text-align: right;\">\n",
       "      <th></th>\n",
       "      <th>n</th>\n",
       "      <th>p</th>\n",
       "      <th>test stat</th>\n",
       "      <th>sig</th>\n",
       "    </tr>\n",
       "  </thead>\n",
       "  <tbody>\n",
       "    <tr>\n",
       "      <th>southwest</th>\n",
       "      <td>323.0</td>\n",
       "      <td>1.718876e-22</td>\n",
       "      <td>100.230402</td>\n",
       "      <td>True</td>\n",
       "    </tr>\n",
       "    <tr>\n",
       "      <th>southeast</th>\n",
       "      <td>362.0</td>\n",
       "      <td>1.936990e-13</td>\n",
       "      <td>58.544942</td>\n",
       "      <td>True</td>\n",
       "    </tr>\n",
       "    <tr>\n",
       "      <th>northwest</th>\n",
       "      <td>323.0</td>\n",
       "      <td>9.182483e-21</td>\n",
       "      <td>92.273979</td>\n",
       "      <td>True</td>\n",
       "    </tr>\n",
       "    <tr>\n",
       "      <th>northeast</th>\n",
       "      <td>323.0</td>\n",
       "      <td>6.205365e-18</td>\n",
       "      <td>79.242235</td>\n",
       "      <td>True</td>\n",
       "    </tr>\n",
       "  </tbody>\n",
       "</table>\n",
       "</div>"
      ],
      "text/plain": [
       "               n             p   test stat   sig\n",
       "southwest  323.0  1.718876e-22  100.230402  True\n",
       "southeast  362.0  1.936990e-13   58.544942  True\n",
       "northwest  323.0  9.182483e-21   92.273979  True\n",
       "northeast  323.0  6.205365e-18   79.242235  True"
      ]
     },
     "execution_count": 20,
     "metadata": {},
     "output_type": "execute_result"
    }
   ],
   "source": [
    "### checking sig with pandas \n",
    "norm_results_df['sig'] = norm_results_df['p'] < .05 \n",
    "norm_results_df"
   ]
  },
  {
   "cell_type": "markdown",
   "id": "645e0d94-0a8f-4dfd-b46b-850922b71afe",
   "metadata": {},
   "source": [
    "Each group does not have a normal distribution"
   ]
  },
  {
   "cell_type": "markdown",
   "id": "ac42a976-6370-42cb-8852-f2a096a997c9",
   "metadata": {},
   "source": [
    "### Testing Equal Variance"
   ]
  },
  {
   "cell_type": "code",
   "execution_count": 21,
   "id": "feb6aac4-41d7-4db9-9601-16dc757d9ab5",
   "metadata": {},
   "outputs": [
    {
     "data": {
      "text/plain": [
       "LeveneResult(statistic=5.894904759083203, pvalue=0.0005382763869610836)"
      ]
     },
     "execution_count": 21,
     "metadata": {},
     "output_type": "execute_result"
    }
   ],
   "source": [
    "stats.levene(*groups.values())"
   ]
  },
  {
   "cell_type": "markdown",
   "id": "851e289d-849d-48ee-8510-4359fce66242",
   "metadata": {},
   "source": [
    "Levene's test indicates that charges have unequal variances between the various regions (p<0.05)."
   ]
  },
  {
   "cell_type": "markdown",
   "id": "88978cbd-1c3b-4359-8276-90c8d19ec31c",
   "metadata": {},
   "source": [
    "### Execute the selected test, or the alternative test (if you do not meet the assumptions)"
   ]
  },
  {
   "cell_type": "markdown",
   "id": "fb51743f-75c6-48bb-8776-0da1c85e06d9",
   "metadata": {},
   "source": [
    "* The assumptions were not met due to non-normal distribution and p < 0.05.\r",
    "* \n",
    "We will be proceeding with Kruskal-Wallis test as the alternative* \r\n",
    "Kruskal-Wallis test doesn't assume normality or equal variances"
   ]
  },
  {
   "cell_type": "code",
   "execution_count": 22,
   "id": "e3ec2919-f60f-455a-a63d-7022a10abf24",
   "metadata": {},
   "outputs": [
    {
     "name": "stdout",
     "output_type": "stream",
     "text": [
      "Statistics=5.119, p=0.163\n"
     ]
    }
   ],
   "source": [
    "stat, p = kruskal(df['charges'][df['region'] == 'southwest'],\n",
    "                  df['charges'][df['region'] == 'southeast'],\n",
    "                  df['charges'][df['region'] == 'northwest'],\n",
    "                  df['charges'][df['region'] == 'northeast'])\n",
    "\n",
    "print('Statistics=%.3f, p=%.3f' % (stat, p))"
   ]
  },
  {
   "cell_type": "markdown",
   "id": "8f78e843-2ae4-4d2f-940b-c435c3d93f34",
   "metadata": {},
   "source": [
    "### Interpret your p-value and reject or fail to reject your null hypothesis"
   ]
  },
  {
   "cell_type": "markdown",
   "id": "4daa1480-3de8-45c9-b9d2-c9c789a66a2e",
   "metadata": {},
   "source": [
    "* The null hypothesis is not rejected as the p-value is higher than alpha of 0.05.\n",
    "* There is no noticeable difference between the two groups."
   ]
  },
  {
   "cell_type": "markdown",
   "id": "c2fc9b40-dcac-4085-9e60-99fd4ba259de",
   "metadata": {},
   "source": [
    "### Show a supporting visualization that helps display the result"
   ]
  },
  {
   "cell_type": "code",
   "execution_count": 24,
   "id": "604d3105-3005-4b66-b092-87359873a06a",
   "metadata": {},
   "outputs": [
    {
     "data": {
      "image/png": "[encoded data removed]",
      "text/plain": [
       "<Figure size 1000x600 with 1 Axes>"
      ]
     },
     "metadata": {},
     "output_type": "display_data"
    }
   ],
   "source": [
    "plt.figure(figsize=(10,6))\n",
    "sns.boxplot(x='region', y='charges', data=df)\n",
    "plt.title('Insurance Charges by Region')\n",
    "plt.show()"
   ]
  },
  {
   "cell_type": "markdown",
   "id": "d887d859-c19a-476d-ab41-e5d58b64cadd",
   "metadata": {},
   "source": [
    "After analyzing the boxplot, it appears that there are no significant differences in insurance charges between regions."
   ]
  }
 ],
 "metadata": {
  "kernelspec": {
   "display_name": "Python (dojo-env)",
   "language": "python",
   "name": "dojo-env"
  },
  "language_info": {
   "codemirror_mode": {
    "name": "ipython",
    "version": 3
   },
   "file_extension": ".py",
   "mimetype": "text/x-python",
   "name": "python",
   "nbconvert_exporter": "python",
   "pygments_lexer": "ipython3",
   "version": "3.11.4"
  },
  "widgets": {
   "application/vnd.jupyter.widget-state+json": {
    "state": {},
    "version_major": 2,
    "version_minor": 0
   }
  }
 },
 "nbformat": 4,
 "nbformat_minor": 5
}
